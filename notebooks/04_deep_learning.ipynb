{
 "cells": [
  {
   "cell_type": "code",
   "execution_count": null,
   "id": "05f325db",
   "metadata": {},
   "outputs": [],
   "source": [
    "import pandas as pd\n",
    "import numpy as np\n",
    "import tensorflow as tf\n",
    "from tensorflow import keras\n",
    "from tensorflow.keras.models import Sequential\n",
    "from tensorflow.keras.layers import Dense, Dropout\n",
    "from tensorflow.keras.callbacks import EarlyStopping\n",
    "from sklearn.metrics import precision_score, recall_score, f1_score, roc_auc_score, average_precision_score\n",
    "\n",
    "X_train = pd.read_csv('../data/X_train.csv')\n",
    "X_test = pd.read_csv('../data/X_test.csv')\n",
    "y_train = pd.read_csv('../data/y_train.csv').values.ravel()\n",
    "y_test = pd.read_csv('../data/y_test.csv').values.ravel()"
   ]
  },
  {
   "cell_type": "code",
   "execution_count": null,
   "id": "f0a13f6c",
   "metadata": {},
   "outputs": [
    {
     "name": "stderr",
     "output_type": "stream",
     "text": [
      "c:\\Users\\Wlady\\AppData\\Local\\Programs\\Python\\Python310\\lib\\site-packages\\keras\\src\\layers\\core\\dense.py:92: UserWarning: Do not pass an `input_shape`/`input_dim` argument to a layer. When using Sequential models, prefer using an `Input(shape)` object as the first layer in the model instead.\n",
      "  super().__init__(activity_regularizer=activity_regularizer, **kwargs)\n"
     ]
    },
    {
     "data": {
      "text/html": [
       "<pre style=\"white-space:pre;overflow-x:auto;line-height:normal;font-family:Menlo,'DejaVu Sans Mono',consolas,'Courier New',monospace\"><span style=\"font-weight: bold\">Model: \"sequential\"</span>\n",
       "</pre>\n"
      ],
      "text/plain": [
       "\u001b[1mModel: \"sequential\"\u001b[0m\n"
      ]
     },
     "metadata": {},
     "output_type": "display_data"
    },
    {
     "data": {
      "text/html": [
       "<pre style=\"white-space:pre;overflow-x:auto;line-height:normal;font-family:Menlo,'DejaVu Sans Mono',consolas,'Courier New',monospace\">┏━━━━━━━━━━━━━━━━━━━━━━━━━━━━━━━━━┳━━━━━━━━━━━━━━━━━━━━━━━━┳━━━━━━━━━━━━━━━┓\n",
       "┃<span style=\"font-weight: bold\"> Layer (type)                    </span>┃<span style=\"font-weight: bold\"> Output Shape           </span>┃<span style=\"font-weight: bold\">       Param # </span>┃\n",
       "┡━━━━━━━━━━━━━━━━━━━━━━━━━━━━━━━━━╇━━━━━━━━━━━━━━━━━━━━━━━━╇━━━━━━━━━━━━━━━┩\n",
       "│ dense (<span style=\"color: #0087ff; text-decoration-color: #0087ff\">Dense</span>)                   │ (<span style=\"color: #00d7ff; text-decoration-color: #00d7ff\">None</span>, <span style=\"color: #00af00; text-decoration-color: #00af00\">64</span>)             │         <span style=\"color: #00af00; text-decoration-color: #00af00\">1,984</span> │\n",
       "├─────────────────────────────────┼────────────────────────┼───────────────┤\n",
       "│ dropout (<span style=\"color: #0087ff; text-decoration-color: #0087ff\">Dropout</span>)               │ (<span style=\"color: #00d7ff; text-decoration-color: #00d7ff\">None</span>, <span style=\"color: #00af00; text-decoration-color: #00af00\">64</span>)             │             <span style=\"color: #00af00; text-decoration-color: #00af00\">0</span> │\n",
       "├─────────────────────────────────┼────────────────────────┼───────────────┤\n",
       "│ dense_1 (<span style=\"color: #0087ff; text-decoration-color: #0087ff\">Dense</span>)                 │ (<span style=\"color: #00d7ff; text-decoration-color: #00d7ff\">None</span>, <span style=\"color: #00af00; text-decoration-color: #00af00\">32</span>)             │         <span style=\"color: #00af00; text-decoration-color: #00af00\">2,080</span> │\n",
       "├─────────────────────────────────┼────────────────────────┼───────────────┤\n",
       "│ dropout_1 (<span style=\"color: #0087ff; text-decoration-color: #0087ff\">Dropout</span>)             │ (<span style=\"color: #00d7ff; text-decoration-color: #00d7ff\">None</span>, <span style=\"color: #00af00; text-decoration-color: #00af00\">32</span>)             │             <span style=\"color: #00af00; text-decoration-color: #00af00\">0</span> │\n",
       "├─────────────────────────────────┼────────────────────────┼───────────────┤\n",
       "│ dense_2 (<span style=\"color: #0087ff; text-decoration-color: #0087ff\">Dense</span>)                 │ (<span style=\"color: #00d7ff; text-decoration-color: #00d7ff\">None</span>, <span style=\"color: #00af00; text-decoration-color: #00af00\">1</span>)              │            <span style=\"color: #00af00; text-decoration-color: #00af00\">33</span> │\n",
       "└─────────────────────────────────┴────────────────────────┴───────────────┘\n",
       "</pre>\n"
      ],
      "text/plain": [
       "┏━━━━━━━━━━━━━━━━━━━━━━━━━━━━━━━━━┳━━━━━━━━━━━━━━━━━━━━━━━━┳━━━━━━━━━━━━━━━┓\n",
       "┃\u001b[1m \u001b[0m\u001b[1mLayer (type)                   \u001b[0m\u001b[1m \u001b[0m┃\u001b[1m \u001b[0m\u001b[1mOutput Shape          \u001b[0m\u001b[1m \u001b[0m┃\u001b[1m \u001b[0m\u001b[1m      Param #\u001b[0m\u001b[1m \u001b[0m┃\n",
       "┡━━━━━━━━━━━━━━━━━━━━━━━━━━━━━━━━━╇━━━━━━━━━━━━━━━━━━━━━━━━╇━━━━━━━━━━━━━━━┩\n",
       "│ dense (\u001b[38;5;33mDense\u001b[0m)                   │ (\u001b[38;5;45mNone\u001b[0m, \u001b[38;5;34m64\u001b[0m)             │         \u001b[38;5;34m1,984\u001b[0m │\n",
       "├─────────────────────────────────┼────────────────────────┼───────────────┤\n",
       "│ dropout (\u001b[38;5;33mDropout\u001b[0m)               │ (\u001b[38;5;45mNone\u001b[0m, \u001b[38;5;34m64\u001b[0m)             │             \u001b[38;5;34m0\u001b[0m │\n",
       "├─────────────────────────────────┼────────────────────────┼───────────────┤\n",
       "│ dense_1 (\u001b[38;5;33mDense\u001b[0m)                 │ (\u001b[38;5;45mNone\u001b[0m, \u001b[38;5;34m32\u001b[0m)             │         \u001b[38;5;34m2,080\u001b[0m │\n",
       "├─────────────────────────────────┼────────────────────────┼───────────────┤\n",
       "│ dropout_1 (\u001b[38;5;33mDropout\u001b[0m)             │ (\u001b[38;5;45mNone\u001b[0m, \u001b[38;5;34m32\u001b[0m)             │             \u001b[38;5;34m0\u001b[0m │\n",
       "├─────────────────────────────────┼────────────────────────┼───────────────┤\n",
       "│ dense_2 (\u001b[38;5;33mDense\u001b[0m)                 │ (\u001b[38;5;45mNone\u001b[0m, \u001b[38;5;34m1\u001b[0m)              │            \u001b[38;5;34m33\u001b[0m │\n",
       "└─────────────────────────────────┴────────────────────────┴───────────────┘\n"
      ]
     },
     "metadata": {},
     "output_type": "display_data"
    },
    {
     "data": {
      "text/html": [
       "<pre style=\"white-space:pre;overflow-x:auto;line-height:normal;font-family:Menlo,'DejaVu Sans Mono',consolas,'Courier New',monospace\"><span style=\"font-weight: bold\"> Total params: </span><span style=\"color: #00af00; text-decoration-color: #00af00\">4,097</span> (16.00 KB)\n",
       "</pre>\n"
      ],
      "text/plain": [
       "\u001b[1m Total params: \u001b[0m\u001b[38;5;34m4,097\u001b[0m (16.00 KB)\n"
      ]
     },
     "metadata": {},
     "output_type": "display_data"
    },
    {
     "data": {
      "text/html": [
       "<pre style=\"white-space:pre;overflow-x:auto;line-height:normal;font-family:Menlo,'DejaVu Sans Mono',consolas,'Courier New',monospace\"><span style=\"font-weight: bold\"> Trainable params: </span><span style=\"color: #00af00; text-decoration-color: #00af00\">4,097</span> (16.00 KB)\n",
       "</pre>\n"
      ],
      "text/plain": [
       "\u001b[1m Trainable params: \u001b[0m\u001b[38;5;34m4,097\u001b[0m (16.00 KB)\n"
      ]
     },
     "metadata": {},
     "output_type": "display_data"
    },
    {
     "data": {
      "text/html": [
       "<pre style=\"white-space:pre;overflow-x:auto;line-height:normal;font-family:Menlo,'DejaVu Sans Mono',consolas,'Courier New',monospace\"><span style=\"font-weight: bold\"> Non-trainable params: </span><span style=\"color: #00af00; text-decoration-color: #00af00\">0</span> (0.00 B)\n",
       "</pre>\n"
      ],
      "text/plain": [
       "\u001b[1m Non-trainable params: \u001b[0m\u001b[38;5;34m0\u001b[0m (0.00 B)\n"
      ]
     },
     "metadata": {},
     "output_type": "display_data"
    }
   ],
   "source": [
    "\n",
    "input_dim = X_train.shape[1]\n",
    "\n",
    "\n",
    "model = Sequential([\n",
    "\n",
    "    Dense(64, activation='relu', input_dim=input_dim),\n",
    "    Dropout(0.2),\n",
    "    Dense(32, activation='relu'),\n",
    "    Dropout(0.2),\n",
    "    Dense(1, activation='sigmoid')\n",
    "])\n",
    "\n",
    "\n",
    "model.compile(optimizer='adam',\n",
    "              loss='binary_crossentropy', \n",
    "              metrics=['AUC', 'Precision', 'Recall'])\n",
    "\n",
    "model.summary()"
   ]
  },
  {
   "cell_type": "code",
   "execution_count": null,
   "id": "866516e2",
   "metadata": {},
   "outputs": [
    {
     "name": "stdout",
     "output_type": "stream",
     "text": [
      "Epoch 1/100\n",
      "\u001b[1m5697/5697\u001b[0m \u001b[32m━━━━━━━━━━━━━━━━━━━━\u001b[0m\u001b[37m\u001b[0m \u001b[1m10s\u001b[0m 1ms/step - AUC: 0.9242 - Precision: 0.0464 - Recall: 0.8264 - loss: 0.9418 - val_AUC: 0.9863 - val_Precision: 0.1220 - val_Recall: 0.9036 - val_loss: 0.0786\n",
      "Epoch 2/100\n",
      "\u001b[1m5697/5697\u001b[0m \u001b[32m━━━━━━━━━━━━━━━━━━━━\u001b[0m\u001b[37m\u001b[0m \u001b[1m8s\u001b[0m 1ms/step - AUC: 0.9743 - Precision: 0.0580 - Recall: 0.9132 - loss: 0.3487 - val_AUC: 0.9827 - val_Precision: 0.0993 - val_Recall: 0.8916 - val_loss: 0.0781\n",
      "Epoch 3/100\n",
      "\u001b[1m5697/5697\u001b[0m \u001b[32m━━━━━━━━━━━━━━━━━━━━\u001b[0m\u001b[37m\u001b[0m \u001b[1m8s\u001b[0m 1ms/step - AUC: 0.9835 - Precision: 0.0552 - Recall: 0.9068 - loss: 0.3037 - val_AUC: 0.9851 - val_Precision: 0.0516 - val_Recall: 0.9398 - val_loss: 0.1160\n",
      "Epoch 4/100\n",
      "\u001b[1m5697/5697\u001b[0m \u001b[32m━━━━━━━━━━━━━━━━━━━━\u001b[0m\u001b[37m\u001b[0m \u001b[1m8s\u001b[0m 1ms/step - AUC: 0.9808 - Precision: 0.0478 - Recall: 0.9132 - loss: 0.3161 - val_AUC: 0.9882 - val_Precision: 0.0920 - val_Recall: 0.9036 - val_loss: 0.0780\n",
      "Epoch 5/100\n",
      "\u001b[1m5697/5697\u001b[0m \u001b[32m━━━━━━━━━━━━━━━━━━━━\u001b[0m\u001b[37m\u001b[0m \u001b[1m9s\u001b[0m 1ms/step - AUC: 0.9901 - Precision: 0.0683 - Recall: 0.9293 - loss: 0.2429 - val_AUC: 0.9815 - val_Precision: 0.0597 - val_Recall: 0.9277 - val_loss: 0.1090\n",
      "Epoch 6/100\n",
      "\u001b[1m5697/5697\u001b[0m \u001b[32m━━━━━━━━━━━━━━━━━━━━\u001b[0m\u001b[37m\u001b[0m \u001b[1m9s\u001b[0m 1ms/step - AUC: 0.9884 - Precision: 0.0713 - Recall: 0.9228 - loss: 0.2584 - val_AUC: 0.9907 - val_Precision: 0.0558 - val_Recall: 0.9277 - val_loss: 0.0952\n",
      "Epoch 7/100\n",
      "\u001b[1m5697/5697\u001b[0m \u001b[32m━━━━━━━━━━━━━━━━━━━━\u001b[0m\u001b[37m\u001b[0m \u001b[1m9s\u001b[0m 2ms/step - AUC: 0.9894 - Precision: 0.0649 - Recall: 0.9453 - loss: 0.2317 - val_AUC: 0.9780 - val_Precision: 0.0631 - val_Recall: 0.9277 - val_loss: 0.1135\n",
      "Epoch 8/100\n",
      "\u001b[1m5697/5697\u001b[0m \u001b[32m━━━━━━━━━━━━━━━━━━━━\u001b[0m\u001b[37m\u001b[0m \u001b[1m8s\u001b[0m 1ms/step - AUC: 0.9918 - Precision: 0.0671 - Recall: 0.9518 - loss: 0.2229 - val_AUC: 0.9854 - val_Precision: 0.0762 - val_Recall: 0.9277 - val_loss: 0.0615\n",
      "Epoch 9/100\n",
      "\u001b[1m5697/5697\u001b[0m \u001b[32m━━━━━━━━━━━━━━━━━━━━\u001b[0m\u001b[37m\u001b[0m \u001b[1m8s\u001b[0m 1ms/step - AUC: 0.9920 - Precision: 0.0615 - Recall: 0.9518 - loss: 0.2023 - val_AUC: 0.9786 - val_Precision: 0.0720 - val_Recall: 0.9277 - val_loss: 0.0594\n",
      "Epoch 10/100\n",
      "\u001b[1m5697/5697\u001b[0m \u001b[32m━━━━━━━━━━━━━━━━━━━━\u001b[0m\u001b[37m\u001b[0m \u001b[1m9s\u001b[0m 2ms/step - AUC: 0.9927 - Precision: 0.0528 - Recall: 0.9453 - loss: 0.2146 - val_AUC: 0.9817 - val_Precision: 0.0824 - val_Recall: 0.9277 - val_loss: 0.0476\n",
      "Epoch 11/100\n",
      "\u001b[1m5697/5697\u001b[0m \u001b[32m━━━━━━━━━━━━━━━━━━━━\u001b[0m\u001b[37m\u001b[0m \u001b[1m9s\u001b[0m 2ms/step - AUC: 0.9913 - Precision: 0.0537 - Recall: 0.9453 - loss: 0.2196 - val_AUC: 0.9849 - val_Precision: 0.0631 - val_Recall: 0.9277 - val_loss: 0.0593\n",
      "Epoch 12/100\n",
      "\u001b[1m5697/5697\u001b[0m \u001b[32m━━━━━━━━━━━━━━━━━━━━\u001b[0m\u001b[37m\u001b[0m \u001b[1m9s\u001b[0m 2ms/step - AUC: 0.9899 - Precision: 0.0506 - Recall: 0.9550 - loss: 0.2329 - val_AUC: 0.9816 - val_Precision: 0.0955 - val_Recall: 0.8916 - val_loss: 0.0538\n",
      "Epoch 13/100\n",
      "\u001b[1m5697/5697\u001b[0m \u001b[32m━━━━━━━━━━━━━━━━━━━━\u001b[0m\u001b[37m\u001b[0m \u001b[1m8s\u001b[0m 1ms/step - AUC: 0.9945 - Precision: 0.0592 - Recall: 0.9582 - loss: 0.1857 - val_AUC: 0.9809 - val_Precision: 0.0834 - val_Recall: 0.9277 - val_loss: 0.0466\n",
      "Epoch 14/100\n",
      "\u001b[1m5697/5697\u001b[0m \u001b[32m━━━━━━━━━━━━━━━━━━━━\u001b[0m\u001b[37m\u001b[0m \u001b[1m8s\u001b[0m 1ms/step - AUC: 0.9917 - Precision: 0.0505 - Recall: 0.9486 - loss: 0.2277 - val_AUC: 0.9839 - val_Precision: 0.0569 - val_Recall: 0.9277 - val_loss: 0.0729\n",
      "Epoch 15/100\n",
      "\u001b[1m5697/5697\u001b[0m \u001b[32m━━━━━━━━━━━━━━━━━━━━\u001b[0m\u001b[37m\u001b[0m \u001b[1m8s\u001b[0m 1ms/step - AUC: 0.9963 - Precision: 0.0611 - Recall: 0.9518 - loss: 0.1550 - val_AUC: 0.9807 - val_Precision: 0.0941 - val_Recall: 0.9277 - val_loss: 0.0406\n",
      "Epoch 16/100\n",
      "\u001b[1m5697/5697\u001b[0m \u001b[32m━━━━━━━━━━━━━━━━━━━━\u001b[0m\u001b[37m\u001b[0m \u001b[1m8s\u001b[0m 1ms/step - AUC: 0.9916 - Precision: 0.0667 - Recall: 0.9711 - loss: 0.1776 - val_AUC: 0.9750 - val_Precision: 0.0892 - val_Recall: 0.9277 - val_loss: 0.0417\n",
      "Epoch 17/100\n",
      "\u001b[1m5697/5697\u001b[0m \u001b[32m━━━━━━━━━━━━━━━━━━━━\u001b[0m\u001b[37m\u001b[0m \u001b[1m9s\u001b[0m 2ms/step - AUC: 0.9920 - Precision: 0.0551 - Recall: 0.9550 - loss: 0.2096 - val_AUC: 0.9715 - val_Precision: 0.0611 - val_Recall: 0.9277 - val_loss: 0.0640\n",
      "Epoch 18/100\n",
      "\u001b[1m5697/5697\u001b[0m \u001b[32m━━━━━━━━━━━━━━━━━━━━\u001b[0m\u001b[37m\u001b[0m \u001b[1m8s\u001b[0m 1ms/step - AUC: 0.9952 - Precision: 0.0612 - Recall: 0.9678 - loss: 0.1761 - val_AUC: 0.9743 - val_Precision: 0.0795 - val_Recall: 0.9277 - val_loss: 0.0452\n",
      "Epoch 19/100\n",
      "\u001b[1m5697/5697\u001b[0m \u001b[32m━━━━━━━━━━━━━━━━━━━━\u001b[0m\u001b[37m\u001b[0m \u001b[1m8s\u001b[0m 1ms/step - AUC: 0.9931 - Precision: 0.0563 - Recall: 0.9614 - loss: 0.2022 - val_AUC: 0.9729 - val_Precision: 0.1297 - val_Recall: 0.9157 - val_loss: 0.0271\n",
      "Epoch 20/100\n",
      "\u001b[1m5697/5697\u001b[0m \u001b[32m━━━━━━━━━━━━━━━━━━━━\u001b[0m\u001b[37m\u001b[0m \u001b[1m8s\u001b[0m 1ms/step - AUC: 0.9937 - Precision: 0.0564 - Recall: 0.9614 - loss: 0.1939 - val_AUC: 0.9671 - val_Precision: 0.1148 - val_Recall: 0.9157 - val_loss: 0.0326\n",
      "Epoch 21/100\n",
      "\u001b[1m5697/5697\u001b[0m \u001b[32m━━━━━━━━━━━━━━━━━━━━\u001b[0m\u001b[37m\u001b[0m \u001b[1m8s\u001b[0m 1ms/step - AUC: 0.9966 - Precision: 0.0624 - Recall: 0.9518 - loss: 0.1588 - val_AUC: 0.9759 - val_Precision: 0.0739 - val_Recall: 0.9398 - val_loss: 0.0503\n",
      "Epoch 22/100\n",
      "\u001b[1m5697/5697\u001b[0m \u001b[32m━━━━━━━━━━━━━━━━━━━━\u001b[0m\u001b[37m\u001b[0m \u001b[1m8s\u001b[0m 1ms/step - AUC: 0.9939 - Precision: 0.0582 - Recall: 0.9711 - loss: 0.1727 - val_AUC: 0.9614 - val_Precision: 0.1269 - val_Recall: 0.9157 - val_loss: 0.0270\n",
      "Epoch 23/100\n",
      "\u001b[1m5697/5697\u001b[0m \u001b[32m━━━━━━━━━━━━━━━━━━━━\u001b[0m\u001b[37m\u001b[0m \u001b[1m8s\u001b[0m 1ms/step - AUC: 0.9951 - Precision: 0.0674 - Recall: 0.9678 - loss: 0.1883 - val_AUC: 0.9793 - val_Precision: 0.0614 - val_Recall: 0.9277 - val_loss: 0.0642\n",
      "Epoch 24/100\n",
      "\u001b[1m5697/5697\u001b[0m \u001b[32m━━━━━━━━━━━━━━━━━━━━\u001b[0m\u001b[37m\u001b[0m \u001b[1m9s\u001b[0m 2ms/step - AUC: 0.9941 - Precision: 0.0616 - Recall: 0.9678 - loss: 0.1700 - val_AUC: 0.9834 - val_Precision: 0.0929 - val_Recall: 0.9277 - val_loss: 0.0375\n",
      "Epoch 25/100\n",
      "\u001b[1m5697/5697\u001b[0m \u001b[32m━━━━━━━━━━━━━━━━━━━━\u001b[0m\u001b[37m\u001b[0m \u001b[1m9s\u001b[0m 2ms/step - AUC: 0.9960 - Precision: 0.0812 - Recall: 0.9711 - loss: 0.1418 - val_AUC: 0.9775 - val_Precision: 0.0225 - val_Recall: 0.9518 - val_loss: 0.1968\n",
      "Epoch 26/100\n",
      "\u001b[1m5697/5697\u001b[0m \u001b[32m━━━━━━━━━━━━━━━━━━━━\u001b[0m\u001b[37m\u001b[0m \u001b[1m9s\u001b[0m 2ms/step - AUC: 0.9971 - Precision: 0.0625 - Recall: 0.9743 - loss: 0.1404 - val_AUC: 0.9676 - val_Precision: 0.1353 - val_Recall: 0.8916 - val_loss: 0.0263\n",
      "Epoch 27/100\n",
      "\u001b[1m5697/5697\u001b[0m \u001b[32m━━━━━━━━━━━━━━━━━━━━\u001b[0m\u001b[37m\u001b[0m \u001b[1m8s\u001b[0m 1ms/step - AUC: 0.9966 - Precision: 0.0930 - Recall: 0.9775 - loss: 0.1234 - val_AUC: 0.9762 - val_Precision: 0.0596 - val_Recall: 0.9277 - val_loss: 0.0732\n",
      "Epoch 28/100\n",
      "\u001b[1m5697/5697\u001b[0m \u001b[32m━━━━━━━━━━━━━━━━━━━━\u001b[0m\u001b[37m\u001b[0m \u001b[1m8s\u001b[0m 1ms/step - AUC: 0.9936 - Precision: 0.0652 - Recall: 0.9678 - loss: 0.1882 - val_AUC: 0.9722 - val_Precision: 0.1397 - val_Recall: 0.9157 - val_loss: 0.0315\n",
      "Epoch 29/100\n",
      "\u001b[1m5697/5697\u001b[0m \u001b[32m━━━━━━━━━━━━━━━━━━━━\u001b[0m\u001b[37m\u001b[0m \u001b[1m8s\u001b[0m 1ms/step - AUC: 0.9929 - Precision: 0.0751 - Recall: 0.9646 - loss: 0.1701 - val_AUC: 0.9675 - val_Precision: 0.1495 - val_Recall: 0.8916 - val_loss: 0.0267\n",
      "Epoch 30/100\n",
      "\u001b[1m5697/5697\u001b[0m \u001b[32m━━━━━━━━━━━━━━━━━━━━\u001b[0m\u001b[37m\u001b[0m \u001b[1m8s\u001b[0m 1ms/step - AUC: 0.9915 - Precision: 0.0619 - Recall: 0.9646 - loss: 0.2164 - val_AUC: 0.9710 - val_Precision: 0.0988 - val_Recall: 0.9157 - val_loss: 0.0363\n",
      "Epoch 31/100\n",
      "\u001b[1m5697/5697\u001b[0m \u001b[32m━━━━━━━━━━━━━━━━━━━━\u001b[0m\u001b[37m\u001b[0m \u001b[1m9s\u001b[0m 2ms/step - AUC: 0.9956 - Precision: 0.0650 - Recall: 0.9678 - loss: 0.2128 - val_AUC: 0.9715 - val_Precision: 0.1202 - val_Recall: 0.9036 - val_loss: 0.0320\n",
      "Epoch 32/100\n",
      "\u001b[1m5697/5697\u001b[0m \u001b[32m━━━━━━━━━━━━━━━━━━━━\u001b[0m\u001b[37m\u001b[0m \u001b[1m8s\u001b[0m 1ms/step - AUC: 0.9947 - Precision: 0.0773 - Recall: 0.9775 - loss: 0.1681 - val_AUC: 0.9819 - val_Precision: 0.0929 - val_Recall: 0.9157 - val_loss: 0.0436\n",
      "Epoch 33/100\n",
      "\u001b[1m5697/5697\u001b[0m \u001b[32m━━━━━━━━━━━━━━━━━━━━\u001b[0m\u001b[37m\u001b[0m \u001b[1m8s\u001b[0m 1ms/step - AUC: 0.9944 - Precision: 0.0705 - Recall: 0.9711 - loss: 0.1488 - val_AUC: 0.9769 - val_Precision: 0.0665 - val_Recall: 0.9398 - val_loss: 0.0589\n",
      "Epoch 34/100\n",
      "\u001b[1m5697/5697\u001b[0m \u001b[32m━━━━━━━━━━━━━━━━━━━━\u001b[0m\u001b[37m\u001b[0m \u001b[1m8s\u001b[0m 1ms/step - AUC: 0.9968 - Precision: 0.0778 - Recall: 0.9775 - loss: 0.1111 - val_AUC: 0.9668 - val_Precision: 0.1176 - val_Recall: 0.8916 - val_loss: 0.0349\n",
      "Epoch 35/100\n",
      "\u001b[1m5697/5697\u001b[0m \u001b[32m━━━━━━━━━━━━━━━━━━━━\u001b[0m\u001b[37m\u001b[0m \u001b[1m8s\u001b[0m 1ms/step - AUC: 0.9962 - Precision: 0.0720 - Recall: 0.9646 - loss: 0.1385 - val_AUC: 0.9675 - val_Precision: 0.1119 - val_Recall: 0.9036 - val_loss: 0.0357\n",
      "Epoch 36/100\n",
      "\u001b[1m5697/5697\u001b[0m \u001b[32m━━━━━━━━━━━━━━━━━━━━\u001b[0m\u001b[37m\u001b[0m \u001b[1m8s\u001b[0m 1ms/step - AUC: 0.9946 - Precision: 0.0723 - Recall: 0.9775 - loss: 0.1714 - val_AUC: 0.9710 - val_Precision: 0.1224 - val_Recall: 0.9157 - val_loss: 0.0331\n"
     ]
    }
   ],
   "source": [
    "\n",
    "neg, pos = np.bincount(y_train)\n",
    "class_weight = {0: 1, 1: neg / pos}\n",
    "\n",
    "early_stopping = EarlyStopping(monitor='val_loss', patience=10, restore_best_weights=True)\n",
    "\n",
    "\n",
    "history = model.fit(X_train, y_train,\n",
    "                    epochs=100,\n",
    "                    batch_size=32,\n",
    "                    validation_split=0.2,\n",
    "                    class_weight=class_weight,\n",
    "                    callbacks=[early_stopping],\n",
    "                    verbose=1)"
   ]
  },
  {
   "cell_type": "code",
   "execution_count": null,
   "id": "13896676",
   "metadata": {},
   "outputs": [
    {
     "name": "stdout",
     "output_type": "stream",
     "text": [
      "\u001b[1m1781/1781\u001b[0m \u001b[32m━━━━━━━━━━━━━━━━━━━━\u001b[0m\u001b[37m\u001b[0m \u001b[1m1s\u001b[0m 577us/step\n",
      "\n",
      "Resultados da Rede Neural:\n",
      "Precision: 0.1250\n",
      "Recall: 0.8980\n",
      "F1-Score: 0.2195\n",
      "ROC-AUC: 0.9761\n",
      "AP: 0.7431\n"
     ]
    }
   ],
   "source": [
    "\n",
    "y_pred_proba = model.predict(X_test).ravel()\n",
    "\n",
    "y_pred = (y_pred_proba > 0.5).astype(int)\n",
    "\n",
    "precision = precision_score(y_test, y_pred)\n",
    "recall = recall_score(y_test, y_pred)\n",
    "f1 = f1_score(y_test, y_pred)\n",
    "roc_auc = roc_auc_score(y_test, y_pred_proba)\n",
    "ap = average_precision_score(y_test, y_pred_proba)\n",
    "\n",
    "print(\"\\nResultados da Rede Neural:\")\n",
    "print(f\"Precision: {precision:.4f}\")\n",
    "print(f\"Recall: {recall:.4f}\")\n",
    "print(f\"F1-Score: {f1:.4f}\")\n",
    "print(f\"ROC-AUC: {roc_auc:.4f}\")\n",
    "print(f\"AP: {ap:.4f}\")"
   ]
  }
 ],
 "metadata": {
  "kernelspec": {
   "display_name": "Python 3",
   "language": "python",
   "name": "python3"
  },
  "language_info": {
   "codemirror_mode": {
    "name": "ipython",
    "version": 3
   },
   "file_extension": ".py",
   "mimetype": "text/x-python",
   "name": "python",
   "nbconvert_exporter": "python",
   "pygments_lexer": "ipython3",
   "version": "3.10.6"
  }
 },
 "nbformat": 4,
 "nbformat_minor": 5
}
