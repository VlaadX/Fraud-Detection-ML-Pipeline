{
 "cells": [
  {
   "cell_type": "code",
   "execution_count": 13,
   "id": "81c85b73",
   "metadata": {},
   "outputs": [],
   "source": [
    "import pandas as pd\n",
    "import numpy as np\n",
    "import matplotlib.pyplot as plt\n",
    "import seaborn as sns\n",
    "\n",
    "sns.set_style('whitegrid')\n",
    "plt.style.use('seaborn-v0_8-whitegrid')"
   ]
  },
  {
   "cell_type": "code",
   "execution_count": null,
   "id": "225cd7bf",
   "metadata": {},
   "outputs": [],
   "source": [
    "df = pd.read_csv('creditcard.csv')\n",
    "print(\"Primeiras 5 linhas do DataFrame:\")\n",
    "print(df.head())"
   ]
  },
  {
   "cell_type": "code",
   "execution_count": null,
   "id": "61dc2c3b",
   "metadata": {},
   "outputs": [],
   "source": [
    "print(\"\\nShape do DataFrame (linhas, colunas):\")\n",
    "print(df.shape)\n",
    "print(\"\\nEstatísticas Descritivas:\")\n",
    "print(df.describe())"
   ]
  },
  {
   "cell_type": "code",
   "execution_count": null,
   "id": "2f80ad03",
   "metadata": {},
   "outputs": [],
   "source": [
    "\n",
    "print(\"\\nContagem de transações por classe:\")\n",
    "print(df['Class'].value_counts())\n",
    "\n",
    "fraude_porcentagem = (df['Class'].value_counts()[1] / len(df)) * 100\n",
    "print(f\"\\nPorcentagem de transações fraudulentas: {fraude_porcentagem:.4f}%\")"
   ]
  },
  {
   "cell_type": "code",
   "execution_count": null,
   "id": "5164dcfc",
   "metadata": {},
   "outputs": [],
   "source": [
    "# Distribuição da variável 'Time' para ambas as classes\n",
    "plt.figure(figsize=(10, 6))\n",
    "sns.histplot(df[df['Class'] == 0]['Time'], kde=True, bins=50, color='skyblue', label='Não Fraude')\n",
    "sns.histplot(df[df['Class'] == 1]['Time'], kde=True, bins=50, color='red', label='Fraude')\n",
    "plt.title('Distribuição da Variável Tempo por Classe')\n",
    "plt.xlabel('Tempo (em segundos)')\n",
    "plt.ylabel('Contagem')\n",
    "plt.legend()\n",
    "plt.show()"
   ]
  },
  {
   "cell_type": "code",
   "execution_count": null,
   "id": "38d8a861",
   "metadata": {},
   "outputs": [],
   "source": [
    "# Distribuição da variável 'Amount' para ambas as classes\n",
    "plt.figure(figsize=(10, 6))\n",
    "sns.kdeplot(df[df['Class'] == 0]['Amount'], color='blue', label='Não Fraude')\n",
    "sns.kdeplot(df[df['Class'] == 1]['Amount'], color='orange', label='Fraude')\n",
    "plt.title('Distribuição da Variável Valor por Classe')\n",
    "plt.xlabel('Valor da Transação')\n",
    "plt.ylabel('Densidade')\n",
    "plt.legend()\n",
    "plt.xlim(0, 1000)\n",
    "plt.show()"
   ]
  }
 ],
 "metadata": {
  "kernelspec": {
   "display_name": "Python 3",
   "language": "python",
   "name": "python3"
  },
  "language_info": {
   "codemirror_mode": {
    "name": "ipython",
    "version": 3
   },
   "file_extension": ".py",
   "mimetype": "text/x-python",
   "name": "python",
   "nbconvert_exporter": "python",
   "pygments_lexer": "ipython3",
   "version": "3.10.6"
  }
 },
 "nbformat": 4,
 "nbformat_minor": 5
}
